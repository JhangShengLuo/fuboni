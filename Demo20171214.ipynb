{
 "cells": [
  {
   "cell_type": "markdown",
   "metadata": {},
   "source": [
    "## 詞頻矩陣"
   ]
  },
  {
   "cell_type": "code",
   "execution_count": 9,
   "metadata": {
    "collapsed": true
   },
   "outputs": [],
   "source": [
    "import jieba\n",
    "jieba.load_userdict('userdict.txt')\n",
    "ary = ['富邦人壽首創保費1萬就能刷卡',\n",
    "       '富邦人壽不老勇士Go來盃3對3籃賽南北開打',\n",
    "       '富邦人壽不老勇士Go來盃開打']"
   ]
  },
  {
   "cell_type": "code",
   "execution_count": 10,
   "metadata": {
    "collapsed": false
   },
   "outputs": [],
   "source": [
    "corpus = []\n",
    "for title in ary:\n",
    "    corpus.append(' '.join(jieba.cut(title)))"
   ]
  },
  {
   "cell_type": "code",
   "execution_count": 11,
   "metadata": {
    "collapsed": false
   },
   "outputs": [],
   "source": [
    "from sklearn.feature_extraction.text import CountVectorizer\n",
    "vectorizer = CountVectorizer() \n",
    "\n",
    "X = vectorizer.fit_transform(corpus)"
   ]
  },
  {
   "cell_type": "code",
   "execution_count": 12,
   "metadata": {
    "collapsed": false
   },
   "outputs": [
    {
     "data": {
      "text/plain": [
       "(3, 11)"
      ]
     },
     "execution_count": 12,
     "metadata": {},
     "output_type": "execute_result"
    }
   ],
   "source": [
    "X.shape"
   ]
  },
  {
   "cell_type": "code",
   "execution_count": 13,
   "metadata": {
    "collapsed": false
   },
   "outputs": [
    {
     "data": {
      "text/plain": [
       "['go', '不老', '人壽', '保費', '刷卡', '勇士', '南北', '富邦', '籃賽', '開打', '首創']"
      ]
     },
     "execution_count": 13,
     "metadata": {},
     "output_type": "execute_result"
    }
   ],
   "source": [
    "vectorizer.get_feature_names()"
   ]
  },
  {
   "cell_type": "code",
   "execution_count": 14,
   "metadata": {
    "collapsed": false
   },
   "outputs": [
    {
     "data": {
      "text/plain": [
       "array([[0, 0, 1, 1, 1, 0, 0, 1, 0, 0, 1],\n",
       "       [1, 1, 1, 0, 0, 1, 1, 1, 1, 1, 0],\n",
       "       [1, 1, 1, 0, 0, 1, 0, 1, 0, 0, 0]], dtype=int64)"
      ]
     },
     "execution_count": 14,
     "metadata": {},
     "output_type": "execute_result"
    }
   ],
   "source": [
    "X.toarray()"
   ]
  },
  {
   "cell_type": "markdown",
   "metadata": {},
   "source": [
    "## 相似度計算"
   ]
  },
  {
   "cell_type": "code",
   "execution_count": 17,
   "metadata": {
    "collapsed": true
   },
   "outputs": [],
   "source": [
    "a = '柯P 大巨蛋 遠雄'\n",
    "b = '柯P 為了 大巨蛋 一案 找 遠雄 算帳'\n",
    "\n",
    "#   柯P 大巨蛋 遠雄 為了 一案 找 算帳\n",
    "# a  1    1    1    0    0   0   0\n",
    "# b  1    1    1    1    1   1   1"
   ]
  },
  {
   "cell_type": "code",
   "execution_count": 25,
   "metadata": {
    "collapsed": false
   },
   "outputs": [
    {
     "data": {
      "text/plain": [
       "2.0"
      ]
     },
     "execution_count": 25,
     "metadata": {},
     "output_type": "execute_result"
    }
   ],
   "source": [
    "import numpy as np\n",
    "na = np.array([1,1,1,0,0,0,0])\n",
    "nb = np.array([1,1,1,1,1,1,1])\n",
    "\n",
    "np.sqrt(sum((nb - na) ** 2))"
   ]
  },
  {
   "cell_type": "code",
   "execution_count": 27,
   "metadata": {
    "collapsed": false
   },
   "outputs": [
    {
     "data": {
      "text/plain": [
       "0.6546536707079772"
      ]
     },
     "execution_count": 27,
     "metadata": {},
     "output_type": "execute_result"
    }
   ],
   "source": [
    "sum(na * nb) / (np.sqrt(sum(na ** 2)) * np.sqrt(sum(nb ** 2)) )"
   ]
  },
  {
   "cell_type": "code",
   "execution_count": 23,
   "metadata": {
    "collapsed": true
   },
   "outputs": [],
   "source": [
    "a = '柯P 大巨蛋 遠雄'\n",
    "b = '柯P 為了 大巨蛋 一案 找 遠雄 算帳 因為 遠雄 在 這案 中 出爾反爾'\n",
    "\n",
    "#   柯P 大巨蛋 遠雄 為了 一案 找 算帳 因為 在 這案 中 出爾反爾\n",
    "# a  1    1    1    0    0   0   0  0   0   0   0    0\n",
    "# b  1    1    2    1    1   1   1  1   1   1   1    1"
   ]
  },
  {
   "cell_type": "code",
   "execution_count": 28,
   "metadata": {
    "collapsed": false
   },
   "outputs": [
    {
     "data": {
      "text/plain": [
       "3.3166247903553998"
      ]
     },
     "execution_count": 28,
     "metadata": {},
     "output_type": "execute_result"
    }
   ],
   "source": [
    "import numpy as np\n",
    "na = np.array([1,1,1,0,0,0,0,0,0,0,0,0,0])\n",
    "nb = np.array([1,1,2,1,1,1,1,1,1,1,1,1,1])\n",
    "\n",
    "np.sqrt(sum((nb - na) ** 2))"
   ]
  },
  {
   "cell_type": "code",
   "execution_count": 29,
   "metadata": {
    "collapsed": false
   },
   "outputs": [
    {
     "data": {
      "text/plain": [
       "0.57735026918962584"
      ]
     },
     "execution_count": 29,
     "metadata": {},
     "output_type": "execute_result"
    }
   ],
   "source": [
    "sum(na * nb) / (np.sqrt(sum(na ** 2)) * np.sqrt(sum(nb ** 2)) )"
   ]
  },
  {
   "cell_type": "code",
   "execution_count": 31,
   "metadata": {
    "collapsed": false
   },
   "outputs": [
    {
     "data": {
      "text/plain": [
       "array([[0, 0, 1, 1, 1, 0, 0, 1, 0, 0, 1],\n",
       "       [1, 1, 1, 0, 0, 1, 1, 1, 1, 1, 0],\n",
       "       [1, 1, 1, 0, 0, 1, 0, 1, 0, 0, 0]], dtype=int64)"
      ]
     },
     "execution_count": 31,
     "metadata": {},
     "output_type": "execute_result"
    }
   ],
   "source": [
    "import jieba\n",
    "jieba.load_userdict('userdict.txt')\n",
    "ary = ['富邦人壽首創保費1萬就能刷卡',\n",
    "       '富邦人壽不老勇士Go來盃3對3籃賽南北開打',\n",
    "       '富邦人壽不老勇士Go來盃開打']\n",
    "corpus = []\n",
    "for title in ary:\n",
    "    corpus.append(' '.join(jieba.cut(title)))\n",
    "from sklearn.feature_extraction.text import CountVectorizer\n",
    "vectorizer = CountVectorizer() \n",
    "\n",
    "X = vectorizer.fit_transform(corpus)\n",
    "X.toarray()"
   ]
  },
  {
   "cell_type": "code",
   "execution_count": 32,
   "metadata": {
    "collapsed": false
   },
   "outputs": [
    {
     "data": {
      "text/plain": [
       "array([[ 1.        ,  0.31622777,  0.4       ],\n",
       "       [ 0.31622777,  1.        ,  0.79056942],\n",
       "       [ 0.4       ,  0.79056942,  1.        ]])"
      ]
     },
     "execution_count": 32,
     "metadata": {},
     "output_type": "execute_result"
    }
   ],
   "source": [
    "from sklearn.metrics.pairwise import cosine_similarity\n",
    "cosine_similarity(X)"
   ]
  },
  {
   "cell_type": "code",
   "execution_count": 33,
   "metadata": {
    "collapsed": false
   },
   "outputs": [
    {
     "data": {
      "text/plain": [
       "array([[ 0.        ,  0.68377223,  0.6       ],\n",
       "       [ 0.68377223,  0.        ,  0.20943058],\n",
       "       [ 0.6       ,  0.20943058,  0.        ]])"
      ]
     },
     "execution_count": 33,
     "metadata": {},
     "output_type": "execute_result"
    }
   ],
   "source": [
    "from sklearn.metrics.pairwise import cosine_distances\n",
    "cosine_distances(X)"
   ]
  },
  {
   "cell_type": "markdown",
   "metadata": {},
   "source": [
    "## 新聞推薦引擎"
   ]
  },
  {
   "cell_type": "code",
   "execution_count": 45,
   "metadata": {
    "collapsed": false
   },
   "outputs": [
    {
     "name": "stdout",
     "output_type": "stream",
     "text": [
      "1\n",
      "2\n",
      "3\n",
      "4\n",
      "5\n",
      "6\n",
      "7\n",
      "8\n",
      "9\n",
      "10\n",
      "11\n",
      "12\n",
      "13\n",
      "14\n",
      "15\n",
      "16\n",
      "17\n",
      "18\n",
      "19\n",
      "20\n",
      "21\n",
      "22\n",
      "23\n",
      "24\n",
      "25\n",
      "26\n",
      "27\n",
      "28\n",
      "29\n"
     ]
    }
   ],
   "source": [
    "import requests\n",
    "from bs4 import BeautifulSoup\n",
    "news_ary = []\n",
    "for page in range(1,30):\n",
    "    res = requests.get('https://tw.appledaily.com/new/realtime/{}'.format(page))\n",
    "    soup = BeautifulSoup(res.text, 'html.parser')\n",
    "    for rec in soup.select('.rtddt a'):\n",
    "        dic = {}\n",
    "        dic['link'] = rec['href']\n",
    "        res2 = requests.get(dic['link'])\n",
    "        soup2 = BeautifulSoup(res2.text, 'html.parser')\n",
    "        dic['category'] = soup2.select('.current')[2].text\n",
    "        dic['title']    = soup2.select_one('h1').text\n",
    "        dic['content']  = soup2.select_one('.ndArticle_margin p').text\n",
    "        news_ary.append(dic)\n",
    "    print(page)"
   ]
  },
  {
   "cell_type": "code",
   "execution_count": 46,
   "metadata": {
    "collapsed": true
   },
   "outputs": [],
   "source": [
    "import pandas\n",
    "newsdf = pandas.DataFrame(news_ary)\n",
    "newsdf.to_excel('appledaily20171214.xlsx')"
   ]
  },
  {
   "cell_type": "code",
   "execution_count": 48,
   "metadata": {
    "collapsed": false
   },
   "outputs": [],
   "source": [
    "import pandas\n",
    "newsdf = pandas.read_excel('data/appledaily20171214.xlsx')"
   ]
  },
  {
   "cell_type": "code",
   "execution_count": 49,
   "metadata": {
    "collapsed": false
   },
   "outputs": [
    {
     "data": {
      "text/html": [
       "<div>\n",
       "<table border=\"1\" class=\"dataframe\">\n",
       "  <thead>\n",
       "    <tr style=\"text-align: right;\">\n",
       "      <th></th>\n",
       "      <th>category</th>\n",
       "      <th>content</th>\n",
       "      <th>link</th>\n",
       "      <th>title</th>\n",
       "    </tr>\n",
       "  </thead>\n",
       "  <tbody>\n",
       "    <tr>\n",
       "      <th>0</th>\n",
       "      <td>政治</td>\n",
       "      <td>新增：立委說法民進黨立法院黨團預計在明天的院會中，讓改制農田水利會的《農田水利會組織通則》修...</td>\n",
       "      <td>https://tw.news.appledaily.com/politics/realti...</td>\n",
       "      <td>【更新】水利會改官派明闖關　綠委24小時前顧議場大門防藍突襲</td>\n",
       "    </tr>\n",
       "    <tr>\n",
       "      <th>1</th>\n",
       "      <td>論壇</td>\n",
       "      <td>邱俊棠／台中市民、見習醫師；曾任台灣醫學生聯合會對外副會長對於公民參與公眾事務而能得到單位首...</td>\n",
       "      <td>https://tw.news.appledaily.com/forum/realtime/...</td>\n",
       "      <td>請中市府為所當為 加速中火燃煤限制</td>\n",
       "    </tr>\n",
       "    <tr>\n",
       "      <th>2</th>\n",
       "      <td>社會</td>\n",
       "      <td>被控來台涉發展情報組織的中國學生周泓旭，因接觸我方外交部官員而露餡落網，今年9月被台北地院一...</td>\n",
       "      <td>https://tw.news.appledaily.com/local/realtime/...</td>\n",
       "      <td>陸生共諜嗆台司法　「不敢公開審理我」</td>\n",
       "    </tr>\n",
       "    <tr>\n",
       "      <th>3</th>\n",
       "      <td>生活</td>\n",
       "      <td>【廣編特輯】 對於全能神教會在中國所遭受的迫害與在韓國、香港及臺灣所面對的反面宣傳，非政府組...</td>\n",
       "      <td>https://tw.news.appledaily.com/life/realtime/2...</td>\n",
       "      <td>【特企】NGO聯名譴責中共迫害宗教信仰</td>\n",
       "    </tr>\n",
       "    <tr>\n",
       "      <th>4</th>\n",
       "      <td>生活</td>\n",
       "      <td>立法院交通委員會今審查《道路交通管理處罰條例》，通過營業大客車駕駛人行駛一般道路未繫安全帶，...</td>\n",
       "      <td>https://tw.news.appledaily.com/life/realtime/2...</td>\n",
       "      <td>乘客搭大客車不配合繫安全帶　立院初審通過可罰6千元</td>\n",
       "    </tr>\n",
       "  </tbody>\n",
       "</table>\n",
       "</div>"
      ],
      "text/plain": [
       "  category                                            content  \\\n",
       "0       政治  新增：立委說法民進黨立法院黨團預計在明天的院會中，讓改制農田水利會的《農田水利會組織通則》修...   \n",
       "1       論壇  邱俊棠／台中市民、見習醫師；曾任台灣醫學生聯合會對外副會長對於公民參與公眾事務而能得到單位首...   \n",
       "2       社會  被控來台涉發展情報組織的中國學生周泓旭，因接觸我方外交部官員而露餡落網，今年9月被台北地院一...   \n",
       "3       生活  【廣編特輯】 對於全能神教會在中國所遭受的迫害與在韓國、香港及臺灣所面對的反面宣傳，非政府組...   \n",
       "4       生活  立法院交通委員會今審查《道路交通管理處罰條例》，通過營業大客車駕駛人行駛一般道路未繫安全帶，...   \n",
       "\n",
       "                                                link  \\\n",
       "0  https://tw.news.appledaily.com/politics/realti...   \n",
       "1  https://tw.news.appledaily.com/forum/realtime/...   \n",
       "2  https://tw.news.appledaily.com/local/realtime/...   \n",
       "3  https://tw.news.appledaily.com/life/realtime/2...   \n",
       "4  https://tw.news.appledaily.com/life/realtime/2...   \n",
       "\n",
       "                            title  \n",
       "0  【更新】水利會改官派明闖關　綠委24小時前顧議場大門防藍突襲  \n",
       "1               請中市府為所當為 加速中火燃煤限制  \n",
       "2              陸生共諜嗆台司法　「不敢公開審理我」  \n",
       "3             【特企】NGO聯名譴責中共迫害宗教信仰  \n",
       "4       乘客搭大客車不配合繫安全帶　立院初審通過可罰6千元  "
      ]
     },
     "execution_count": 49,
     "metadata": {},
     "output_type": "execute_result"
    }
   ],
   "source": [
    "newsdf.head()"
   ]
  },
  {
   "cell_type": "code",
   "execution_count": 52,
   "metadata": {
    "collapsed": false
   },
   "outputs": [],
   "source": [
    "corpus = []\n",
    "titles = []\n",
    "for news in newsdf.iterrows():\n",
    "    corpus.append(' '.join(jieba.cut(news[1]['content'])))\n",
    "    titles.append(news[1]['title'])"
   ]
  },
  {
   "cell_type": "code",
   "execution_count": 56,
   "metadata": {
    "collapsed": false
   },
   "outputs": [
    {
     "data": {
      "text/plain": [
       "<899x38624 sparse matrix of type '<class 'numpy.int64'>'\n",
       "\twith 128131 stored elements in Compressed Sparse Row format>"
      ]
     },
     "execution_count": 56,
     "metadata": {},
     "output_type": "execute_result"
    }
   ],
   "source": [
    "from sklearn.feature_extraction.text import CountVectorizer\n",
    "vectorizer = CountVectorizer()\n",
    "X = vectorizer.fit_transform(corpus)\n",
    "X"
   ]
  },
  {
   "cell_type": "code",
   "execution_count": 67,
   "metadata": {
    "collapsed": false
   },
   "outputs": [
    {
     "data": {
      "text/plain": [
       "(899, 899)"
      ]
     },
     "execution_count": 67,
     "metadata": {},
     "output_type": "execute_result"
    }
   ],
   "source": [
    "from sklearn.metrics.pairwise import cosine_similarity\n",
    "cs = cosine_similarity(X)\n",
    "cs.shape"
   ]
  },
  {
   "cell_type": "code",
   "execution_count": 65,
   "metadata": {
    "collapsed": false
   },
   "outputs": [
    {
     "data": {
      "text/plain": [
       "array([1, 2, 4, 5, 6, 7, 8, 9])"
      ]
     },
     "execution_count": 65,
     "metadata": {},
     "output_type": "execute_result"
    }
   ],
   "source": [
    "na = np.array([1,9,2,6,8,4,5,7])\n",
    "na.sort()\n",
    "na"
   ]
  },
  {
   "cell_type": "code",
   "execution_count": 66,
   "metadata": {
    "collapsed": false
   },
   "outputs": [
    {
     "data": {
      "text/plain": [
       "array([0, 2, 5, 6, 3, 7, 4, 1], dtype=int64)"
      ]
     },
     "execution_count": 66,
     "metadata": {},
     "output_type": "execute_result"
    }
   ],
   "source": [
    "na = np.array([1,9,2,6,8,4,5,7])\n",
    "na.argsort()"
   ]
  },
  {
   "cell_type": "code",
   "execution_count": 72,
   "metadata": {
    "collapsed": false
   },
   "outputs": [
    {
     "name": "stdout",
     "output_type": "stream",
     "text": [
      "【更新】水利會改官派明闖關　綠委24小時前顧議場大門防藍突襲 1.0\n",
      "反對水利會改制　吳敦義下令：藍委做好夜宿立院抗爭準備 0.367845249572\n",
      "農田水利會改公務機關　蔡英文：這不是綁樁 0.327587152559\n"
     ]
    }
   ],
   "source": [
    "rank = cs[0].argsort()[::-1]\n",
    "for rec in rank[0:10]:\n",
    "    if cs[0][rec] > 0.3:\n",
    "        print(titles[rec], cs[0][rec])"
   ]
  },
  {
   "cell_type": "code",
   "execution_count": 73,
   "metadata": {
    "collapsed": true
   },
   "outputs": [],
   "source": [
    "def getSimiliarArticle(pos):\n",
    "    rank = cs[pos].argsort()[::-1]\n",
    "    for rec in rank[0:10]:\n",
    "        similiarities = cs[pos][rec]\n",
    "        if similiarities > 0.3:\n",
    "            print(titles[rec], similiarities)"
   ]
  },
  {
   "cell_type": "code",
   "execution_count": 79,
   "metadata": {
    "collapsed": false
   },
   "outputs": [
    {
     "name": "stdout",
     "output_type": "stream",
     "text": [
      "喬妹升格宋太太首上工　現身中國見習近平 1.0\n",
      "素顏依舊完美　喬妹升格人妻赴中開工 0.31870904608\n"
     ]
    }
   ],
   "source": [
    "getSimiliarArticle(6)"
   ]
  },
  {
   "cell_type": "markdown",
   "metadata": {},
   "source": [
    "## 同義詞"
   ]
  },
  {
   "cell_type": "code",
   "execution_count": 16,
   "metadata": {
    "collapsed": false
   },
   "outputs": [
    {
     "data": {
      "text/plain": [
       "'柯文哲 為 了 大巨蛋 一案 找遠 雄算帳'"
      ]
     },
     "execution_count": 16,
     "metadata": {},
     "output_type": "execute_result"
    }
   ],
   "source": [
    "synonym_dic = {\n",
    "    '柯P': '柯文哲'\n",
    "}\n",
    "s = '柯P為了大巨蛋一案找遠雄算帳'\n",
    "' '.join([synonym_dic.get(ele, ele) for ele in jieba.cut(s)])\n"
   ]
  },
  {
   "cell_type": "markdown",
   "metadata": {},
   "source": [
    "## 保險常見問題集"
   ]
  },
  {
   "cell_type": "code",
   "execution_count": 81,
   "metadata": {
    "collapsed": false
   },
   "outputs": [],
   "source": [
    "import requests\n",
    "from bs4 import BeautifulSoup\n",
    "res = requests.get('https://my83.com.tw/knowledge/client')\n",
    "soup = BeautifulSoup(res.text, 'html.parser')"
   ]
  },
  {
   "cell_type": "code",
   "execution_count": 91,
   "metadata": {
    "collapsed": false
   },
   "outputs": [],
   "source": [
    "qalist =  soup.select('.accordionList')\n",
    "questions = [qa.select('dt')[0].text for qa in qalist]\n",
    "answers   = [qa.select('dd')[0].text for qa in qalist]\n",
    "qa_ary = []\n",
    "for q, a in zip(questions, answers):\n",
    "    dic = {}\n",
    "    dic['question'] = q\n",
    "    dic['answer']   = a\n",
    "    qa_ary.append(dic)"
   ]
  },
  {
   "cell_type": "code",
   "execution_count": 93,
   "metadata": {
    "collapsed": false
   },
   "outputs": [],
   "source": [
    "import pandas\n",
    "df = pandas.DataFrame(qa_ary)\n",
    "df.to_excel('my83qa.xlsx')"
   ]
  },
  {
   "cell_type": "code",
   "execution_count": 95,
   "metadata": {
    "collapsed": true
   },
   "outputs": [],
   "source": [
    "import pandas\n",
    "issuarance = pandas.read_excel('my83qa.xlsx')"
   ]
  },
  {
   "cell_type": "markdown",
   "metadata": {},
   "source": [
    "## 自動問答"
   ]
  },
  {
   "cell_type": "code",
   "execution_count": 124,
   "metadata": {
    "collapsed": true
   },
   "outputs": [],
   "source": [
    "q = '殘廢險的功用?'\n",
    "q_seg = ' '.join(jieba.cut(q))"
   ]
  },
  {
   "cell_type": "code",
   "execution_count": 125,
   "metadata": {
    "collapsed": false
   },
   "outputs": [],
   "source": [
    "corpus    = [q_seg]\n",
    "questions = [q]\n",
    "answers   = ['NONE']\n",
    "for qa in issuarance.iterrows():\n",
    "    corpus.append(' '.join(jieba.cut(qa[1]['question'])))\n",
    "    questions.append(qa[1]['question'])\n",
    "    answers.append(  qa[1]['answer'])"
   ]
  },
  {
   "cell_type": "code",
   "execution_count": 126,
   "metadata": {
    "collapsed": false
   },
   "outputs": [
    {
     "data": {
      "text/plain": [
       "<16x65 sparse matrix of type '<class 'numpy.int64'>'\n",
       "\twith 82 stored elements in Compressed Sparse Row format>"
      ]
     },
     "execution_count": 126,
     "metadata": {},
     "output_type": "execute_result"
    }
   ],
   "source": [
    "from sklearn.feature_extraction.text import CountVectorizer\n",
    "vectorizer = CountVectorizer()\n",
    "X = vectorizer.fit_transform(corpus)\n",
    "X"
   ]
  },
  {
   "cell_type": "code",
   "execution_count": 127,
   "metadata": {
    "collapsed": false
   },
   "outputs": [],
   "source": [
    "from sklearn.metrics.pairwise import cosine_similarity\n",
    "cs = cosine_similarity(X)"
   ]
  },
  {
   "cell_type": "code",
   "execution_count": 128,
   "metadata": {
    "collapsed": false
   },
   "outputs": [
    {
     "data": {
      "text/plain": [
       "{'answer': '殘廢險能提供完整的殘廢保障，不像意外險只能理賠因意外所造成的殘廢，殘廢險能保障疾病及意外所造成的傷害，並且能避免保險公司對於殘廢原因的認定爭議。事實上，統計有6成的殘廢主因是疾病而非意外。',\n",
       " 'question': 'Q：殘廢險的主要功用是什麼？',\n",
       " 'similarity': 0.70710678118654746}"
      ]
     },
     "execution_count": 128,
     "metadata": {},
     "output_type": "execute_result"
    }
   ],
   "source": [
    "rank = cs[0].argsort()[::-1]\n",
    "qa_dic = {}\n",
    "qa_dic['question'] = questions[rank[1]]\n",
    "qa_dic['answer']   = answers[rank[1]]\n",
    "qa_dic['similarity']   = cs[0][rank[1]]\n",
    "qa_dic"
   ]
  },
  {
   "cell_type": "code",
   "execution_count": 131,
   "metadata": {
    "collapsed": true
   },
   "outputs": [],
   "source": [
    "def getSimiliarAnswer(q):\n",
    "    q_seg = ' '.join(jieba.cut(q))\n",
    "    corpus    = [q_seg]\n",
    "    questions = [q]\n",
    "    answers   = ['NONE']\n",
    "    for qa in issuarance.iterrows():\n",
    "        corpus.append(' '.join(jieba.cut(qa[1]['question'])))\n",
    "        questions.append(qa[1]['question'])\n",
    "        answers.append(  qa[1]['answer'])\n",
    "    vectorizer = CountVectorizer()\n",
    "    X = vectorizer.fit_transform(corpus)\n",
    "    cs = cosine_similarity(X)\n",
    "    rank = cs[0].argsort()[::-1]\n",
    "    qa_dic = {}\n",
    "    qa_dic['question'] = questions[rank[1]]\n",
    "    qa_dic['answer']   = answers[rank[1]]\n",
    "    qa_dic['similarity']   = cs[0][rank[1]]\n",
    "    if qa_dic['similarity'] >= 0.7:\n",
    "        return qa_dic\n",
    "    else:\n",
    "        qa_dic['answer'] = '你的問題現在對我而言有點複雜, 我還要持續學習, 等我以後變聰明以後再回答你'\n",
    "        return qa_dic"
   ]
  },
  {
   "cell_type": "code",
   "execution_count": 137,
   "metadata": {
    "collapsed": false
   },
   "outputs": [
    {
     "data": {
      "text/plain": [
       "{'answer': '你的問題現在對我而言有點複雜, 我還要持續學習, 等我以後變聰明以後再回答你',\n",
       " 'question': 'Q：只要需要長期看護，長期看護險就可以理賠？',\n",
       " 'similarity': 0.0}"
      ]
     },
     "execution_count": 137,
     "metadata": {},
     "output_type": "execute_result"
    }
   ],
   "source": [
    "getSimiliarAnswer('我好帥')"
   ]
  },
  {
   "cell_type": "markdown",
   "metadata": {},
   "source": [
    "## 語音機器人回答"
   ]
  },
  {
   "cell_type": "code",
   "execution_count": 138,
   "metadata": {
    "collapsed": true
   },
   "outputs": [],
   "source": [
    "import speech_recognition\n",
    "\n",
    "def listenToMe():\n",
    "    r = speech_recognition.Recognizer()\n",
    "\n",
    "    with speech_recognition.Microphone() as source:\n",
    "        r.adjust_for_ambient_noise(source)\n",
    "        audio = r.listen(source)\n",
    "    return r.recognize_google(audio, language='zh-TW')"
   ]
  },
  {
   "cell_type": "code",
   "execution_count": 139,
   "metadata": {
    "collapsed": true
   },
   "outputs": [],
   "source": [
    "from gtts import gTTS\n",
    "from pygame import mixer\n",
    "mixer.init()\n",
    "\n",
    "import tempfile\n",
    "def speak(sentence):\n",
    "    with tempfile.NamedTemporaryFile(delete=True) as fp:\n",
    "        tts = gTTS(text=sentence, lang='zh')\n",
    "        tts.save(\"{}.mp3\".format(fp.name))\n",
    "        mixer.music.load('{}.mp3'.format(fp.name))\n",
    "        mixer.music.play()"
   ]
  },
  {
   "cell_type": "code",
   "execution_count": 141,
   "metadata": {
    "collapsed": true
   },
   "outputs": [],
   "source": [
    "speak(getSimiliarAnswer(listenToMe())['answer'])"
   ]
  },
  {
   "cell_type": "markdown",
   "metadata": {},
   "source": [
    "## 抓取富邦網路e方便"
   ]
  },
  {
   "cell_type": "code",
   "execution_count": 169,
   "metadata": {
    "collapsed": false
   },
   "outputs": [],
   "source": [
    "html_sample = '''\n",
    "<select id=\"Qtype\" name=\"Qtype\">\n",
    "                    <option value=\"-10\">不分類</option>\n",
    "                            <option value=\"06\">熱門問題</option>\n",
    "                            <option value=\"01\">保費相關</option>\n",
    "                            <option value=\"02\">保單變更</option>\n",
    "                            <option value=\"03\">保單借款/還款</option>\n",
    "                            <option value=\"04\">理賠</option>\n",
    "                            <option value=\"07\">生存金/滿期金/紅利</option>\n",
    "                            <option value=\"08\">網路會員相關</option>\n",
    "                            <option value=\"09\">旅平險</option>\n",
    "                            <option value=\"10\">電子通知/保單</option>\n",
    "                            <option value=\"05\">其他</option>\n",
    "                </select>\n",
    "'''\n",
    "soup = BeautifulSoup(html_sample, 'lxml')\n",
    "type_dic = {}\n",
    "for ele in soup.select('option'):\n",
    "    type_dic[ele['value']] = ele.text"
   ]
  },
  {
   "cell_type": "code",
   "execution_count": 171,
   "metadata": {
    "collapsed": false
   },
   "outputs": [],
   "source": [
    "type_dic\n",
    "del type_dic['-10']"
   ]
  },
  {
   "cell_type": "code",
   "execution_count": 172,
   "metadata": {
    "collapsed": false
   },
   "outputs": [
    {
     "data": {
      "text/plain": [
       "{'01': '保費相關',\n",
       " '02': '保單變更',\n",
       " '03': '保單借款/還款',\n",
       " '04': '理賠',\n",
       " '05': '其他',\n",
       " '06': '熱門問題',\n",
       " '07': '生存金/滿期金/紅利',\n",
       " '08': '網路會員相關',\n",
       " '09': '旅平險',\n",
       " '10': '電子通知/保單'}"
      ]
     },
     "execution_count": 172,
     "metadata": {},
     "output_type": "execute_result"
    }
   ],
   "source": [
    "type_dic"
   ]
  },
  {
   "cell_type": "code",
   "execution_count": 162,
   "metadata": {
    "collapsed": false
   },
   "outputs": [],
   "source": [
    "def getQA(url):\n",
    "    qa_dic = {}\n",
    "    res = requests.get(url)\n",
    "    soup = BeautifulSoup(res.text, 'html.parser')\n",
    "    question = soup.select_one('title').text\n",
    "    answer   = ' '.join([' '.join(p.text.split()) for p in soup.select('h2')])\n",
    "    qa_dic['question'] = question\n",
    "    qa_dic['answer']   = answer\n",
    "    qa_dic['link']     = url\n",
    "    return qa_dic"
   ]
  },
  {
   "cell_type": "code",
   "execution_count": null,
   "metadata": {
    "collapsed": false
   },
   "outputs": [],
   "source": [
    "import requests\n",
    "from bs4 import BeautifulSoup\n",
    "import time\n",
    "payload = {\n",
    "#'Qtype':'-10',\n",
    "'allQuery':'N',\n",
    "'toPage':'1',\n",
    "'Count_per_Page':'300'    \n",
    "}\n",
    "\n",
    "for qtype in type_dic:\n",
    "    payload['Qtype'] = qtype\n",
    "    res = requests.post('https://me.fubonlife.com.tw/C03002000000_FAQ.choice.view', data = payload)\n",
    "    soup = BeautifulSoup(res.text, 'lxml')\n",
    "    domain = 'https://me.fubonlife.com.tw'\n",
    "    qa_ary = []\n",
    "    for rec in soup.select('#formqa a'):\n",
    "        if 'FlowID=' in rec['href']:\n",
    "            qadic = getQA(domain + rec['href'])\n",
    "            qadic['type'] = type_dic.get(qtype)\n",
    "            qa_ary.append(getQA(domain + rec['href']))\n",
    "            time.sleep(1)"
   ]
  },
  {
   "cell_type": "code",
   "execution_count": 165,
   "metadata": {
    "collapsed": false
   },
   "outputs": [],
   "source": [
    "import pandas\n",
    "qa_df = pandas.DataFrame(qa_ary)\n",
    "qa_df = qa_df[['question', 'answer', 'link']]\n",
    "qa_df.to_excel('fuboneqa.xlsx')"
   ]
  },
  {
   "cell_type": "code",
   "execution_count": null,
   "metadata": {
    "collapsed": true
   },
   "outputs": [],
   "source": []
  }
 ],
 "metadata": {
  "kernelspec": {
   "display_name": "Python 3",
   "language": "python",
   "name": "python3"
  },
  "language_info": {
   "codemirror_mode": {
    "name": "ipython",
    "version": 3
   },
   "file_extension": ".py",
   "mimetype": "text/x-python",
   "name": "python",
   "nbconvert_exporter": "python",
   "pygments_lexer": "ipython3",
   "version": "3.6.0"
  }
 },
 "nbformat": 4,
 "nbformat_minor": 2
}
