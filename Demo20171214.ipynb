{
 "cells": [
  {
   "cell_type": "markdown",
   "metadata": {},
   "source": [
    "## 詞頻矩陣"
   ]
  },
  {
   "cell_type": "code",
   "execution_count": 9,
   "metadata": {
    "collapsed": true
   },
   "outputs": [],
   "source": [
    "import jieba\n",
    "jieba.load_userdict('userdict.txt')\n",
    "ary = ['富邦人壽首創保費1萬就能刷卡',\n",
    "       '富邦人壽不老勇士Go來盃3對3籃賽南北開打',\n",
    "       '富邦人壽不老勇士Go來盃開打']"
   ]
  },
  {
   "cell_type": "code",
   "execution_count": 10,
   "metadata": {
    "collapsed": false
   },
   "outputs": [],
   "source": [
    "corpus = []\n",
    "for title in ary:\n",
    "    corpus.append(' '.join(jieba.cut(title)))"
   ]
  },
  {
   "cell_type": "code",
   "execution_count": 11,
   "metadata": {
    "collapsed": false
   },
   "outputs": [],
   "source": [
    "from sklearn.feature_extraction.text import CountVectorizer\n",
    "vectorizer = CountVectorizer() \n",
    "\n",
    "X = vectorizer.fit_transform(corpus)"
   ]
  },
  {
   "cell_type": "code",
   "execution_count": 12,
   "metadata": {
    "collapsed": false
   },
   "outputs": [
    {
     "data": {
      "text/plain": [
       "(3, 11)"
      ]
     },
     "execution_count": 12,
     "metadata": {},
     "output_type": "execute_result"
    }
   ],
   "source": [
    "X.shape"
   ]
  },
  {
   "cell_type": "code",
   "execution_count": 13,
   "metadata": {
    "collapsed": false
   },
   "outputs": [
    {
     "data": {
      "text/plain": [
       "['go', '不老', '人壽', '保費', '刷卡', '勇士', '南北', '富邦', '籃賽', '開打', '首創']"
      ]
     },
     "execution_count": 13,
     "metadata": {},
     "output_type": "execute_result"
    }
   ],
   "source": [
    "vectorizer.get_feature_names()"
   ]
  },
  {
   "cell_type": "code",
   "execution_count": 14,
   "metadata": {
    "collapsed": false
   },
   "outputs": [
    {
     "data": {
      "text/plain": [
       "array([[0, 0, 1, 1, 1, 0, 0, 1, 0, 0, 1],\n",
       "       [1, 1, 1, 0, 0, 1, 1, 1, 1, 1, 0],\n",
       "       [1, 1, 1, 0, 0, 1, 0, 1, 0, 0, 0]], dtype=int64)"
      ]
     },
     "execution_count": 14,
     "metadata": {},
     "output_type": "execute_result"
    }
   ],
   "source": [
    "X.toarray()"
   ]
  },
  {
   "cell_type": "markdown",
   "metadata": {},
   "source": [
    "## 相似度計算"
   ]
  },
  {
   "cell_type": "code",
   "execution_count": 17,
   "metadata": {
    "collapsed": true
   },
   "outputs": [],
   "source": [
    "a = '柯P 大巨蛋 遠雄'\n",
    "b = '柯P 為了 大巨蛋 一案 找 遠雄 算帳'\n",
    "\n",
    "#   柯P 大巨蛋 遠雄 為了 一案 找 算帳\n",
    "# a  1    1    1    0    0   0   0\n",
    "# b  1    1    1    1    1   1   1"
   ]
  },
  {
   "cell_type": "code",
   "execution_count": 25,
   "metadata": {
    "collapsed": false
   },
   "outputs": [
    {
     "data": {
      "text/plain": [
       "2.0"
      ]
     },
     "execution_count": 25,
     "metadata": {},
     "output_type": "execute_result"
    }
   ],
   "source": [
    "import numpy as np\n",
    "na = np.array([1,1,1,0,0,0,0])\n",
    "nb = np.array([1,1,1,1,1,1,1])\n",
    "\n",
    "np.sqrt(sum((nb - na) ** 2))"
   ]
  },
  {
   "cell_type": "code",
   "execution_count": 27,
   "metadata": {
    "collapsed": false
   },
   "outputs": [
    {
     "data": {
      "text/plain": [
       "0.6546536707079772"
      ]
     },
     "execution_count": 27,
     "metadata": {},
     "output_type": "execute_result"
    }
   ],
   "source": [
    "sum(na * nb) / (np.sqrt(sum(na ** 2)) * np.sqrt(sum(nb ** 2)) )"
   ]
  },
  {
   "cell_type": "code",
   "execution_count": 23,
   "metadata": {
    "collapsed": true
   },
   "outputs": [],
   "source": [
    "a = '柯P 大巨蛋 遠雄'\n",
    "b = '柯P 為了 大巨蛋 一案 找 遠雄 算帳 因為 遠雄 在 這案 中 出爾反爾'\n",
    "\n",
    "#   柯P 大巨蛋 遠雄 為了 一案 找 算帳 因為 在 這案 中 出爾反爾\n",
    "# a  1    1    1    0    0   0   0  0   0   0   0    0\n",
    "# b  1    1    2    1    1   1   1  1   1   1   1    1"
   ]
  },
  {
   "cell_type": "code",
   "execution_count": 28,
   "metadata": {
    "collapsed": false
   },
   "outputs": [
    {
     "data": {
      "text/plain": [
       "3.3166247903553998"
      ]
     },
     "execution_count": 28,
     "metadata": {},
     "output_type": "execute_result"
    }
   ],
   "source": [
    "import numpy as np\n",
    "na = np.array([1,1,1,0,0,0,0,0,0,0,0,0,0])\n",
    "nb = np.array([1,1,2,1,1,1,1,1,1,1,1,1,1])\n",
    "\n",
    "np.sqrt(sum((nb - na) ** 2))"
   ]
  },
  {
   "cell_type": "code",
   "execution_count": 29,
   "metadata": {
    "collapsed": false
   },
   "outputs": [
    {
     "data": {
      "text/plain": [
       "0.57735026918962584"
      ]
     },
     "execution_count": 29,
     "metadata": {},
     "output_type": "execute_result"
    }
   ],
   "source": [
    "sum(na * nb) / (np.sqrt(sum(na ** 2)) * np.sqrt(sum(nb ** 2)) )"
   ]
  },
  {
   "cell_type": "code",
   "execution_count": 31,
   "metadata": {
    "collapsed": false
   },
   "outputs": [
    {
     "data": {
      "text/plain": [
       "array([[0, 0, 1, 1, 1, 0, 0, 1, 0, 0, 1],\n",
       "       [1, 1, 1, 0, 0, 1, 1, 1, 1, 1, 0],\n",
       "       [1, 1, 1, 0, 0, 1, 0, 1, 0, 0, 0]], dtype=int64)"
      ]
     },
     "execution_count": 31,
     "metadata": {},
     "output_type": "execute_result"
    }
   ],
   "source": [
    "import jieba\n",
    "jieba.load_userdict('userdict.txt')\n",
    "ary = ['富邦人壽首創保費1萬就能刷卡',\n",
    "       '富邦人壽不老勇士Go來盃3對3籃賽南北開打',\n",
    "       '富邦人壽不老勇士Go來盃開打']\n",
    "corpus = []\n",
    "for title in ary:\n",
    "    corpus.append(' '.join(jieba.cut(title)))\n",
    "from sklearn.feature_extraction.text import CountVectorizer\n",
    "vectorizer = CountVectorizer() \n",
    "\n",
    "X = vectorizer.fit_transform(corpus)\n",
    "X.toarray()"
   ]
  },
  {
   "cell_type": "code",
   "execution_count": 32,
   "metadata": {
    "collapsed": false
   },
   "outputs": [
    {
     "data": {
      "text/plain": [
       "array([[ 1.        ,  0.31622777,  0.4       ],\n",
       "       [ 0.31622777,  1.        ,  0.79056942],\n",
       "       [ 0.4       ,  0.79056942,  1.        ]])"
      ]
     },
     "execution_count": 32,
     "metadata": {},
     "output_type": "execute_result"
    }
   ],
   "source": [
    "from sklearn.metrics.pairwise import cosine_similarity\n",
    "cosine_similarity(X)"
   ]
  },
  {
   "cell_type": "code",
   "execution_count": 33,
   "metadata": {
    "collapsed": false
   },
   "outputs": [
    {
     "data": {
      "text/plain": [
       "array([[ 0.        ,  0.68377223,  0.6       ],\n",
       "       [ 0.68377223,  0.        ,  0.20943058],\n",
       "       [ 0.6       ,  0.20943058,  0.        ]])"
      ]
     },
     "execution_count": 33,
     "metadata": {},
     "output_type": "execute_result"
    }
   ],
   "source": [
    "from sklearn.metrics.pairwise import cosine_distances\n",
    "cosine_distances(X)"
   ]
  },
  {
   "cell_type": "markdown",
   "metadata": {},
   "source": [
    "## 新聞推薦引擎"
   ]
  },
  {
   "cell_type": "code",
   "execution_count": 45,
   "metadata": {
    "collapsed": false
   },
   "outputs": [
    {
     "name": "stdout",
     "output_type": "stream",
     "text": [
      "1\n",
      "2\n",
      "3\n",
      "4\n",
      "5\n",
      "6\n",
      "7\n",
      "8\n",
      "9\n",
      "10\n",
      "11\n",
      "12\n",
      "13\n",
      "14\n",
      "15\n",
      "16\n",
      "17\n",
      "18\n",
      "19\n",
      "20\n",
      "21\n",
      "22\n",
      "23\n",
      "24\n",
      "25\n",
      "26\n",
      "27\n",
      "28\n",
      "29\n"
     ]
    }
   ],
   "source": [
    "import requests\n",
    "from bs4 import BeautifulSoup\n",
    "news_ary = []\n",
    "for page in range(1,30):\n",
    "    res = requests.get('https://tw.appledaily.com/new/realtime/{}'.format(page))\n",
    "    soup = BeautifulSoup(res.text, 'html.parser')\n",
    "    for rec in soup.select('.rtddt a'):\n",
    "        dic = {}\n",
    "        dic['link'] = rec['href']\n",
    "        res2 = requests.get(dic['link'])\n",
    "        soup2 = BeautifulSoup(res2.text, 'html.parser')\n",
    "        dic['category'] = soup2.select('.current')[2].text\n",
    "        dic['title']    = soup2.select_one('h1').text\n",
    "        dic['content']  = soup2.select_one('.ndArticle_margin p').text\n",
    "        news_ary.append(dic)\n",
    "    print(page)"
   ]
  },
  {
   "cell_type": "code",
   "execution_count": 46,
   "metadata": {
    "collapsed": true
   },
   "outputs": [],
   "source": [
    "import pandas\n",
    "newsdf = pandas.DataFrame(news_ary)\n",
    "newsdf.to_excel('appledaily20171214.xlsx')"
   ]
  },
  {
   "cell_type": "code",
   "execution_count": 48,
   "metadata": {
    "collapsed": false
   },
   "outputs": [],
   "source": [
    "import pandas\n",
    "newsdf = pandas.read_excel('data/appledaily20171214.xlsx')"
   ]
  },
  {
   "cell_type": "code",
   "execution_count": 49,
   "metadata": {
    "collapsed": false
   },
   "outputs": [
    {
     "data": {
      "text/html": [
       "<div>\n",
       "<table border=\"1\" class=\"dataframe\">\n",
       "  <thead>\n",
       "    <tr style=\"text-align: right;\">\n",
       "      <th></th>\n",
       "      <th>category</th>\n",
       "      <th>content</th>\n",
       "      <th>link</th>\n",
       "      <th>title</th>\n",
       "    </tr>\n",
       "  </thead>\n",
       "  <tbody>\n",
       "    <tr>\n",
       "      <th>0</th>\n",
       "      <td>政治</td>\n",
       "      <td>新增：立委說法民進黨立法院黨團預計在明天的院會中，讓改制農田水利會的《農田水利會組織通則》修...</td>\n",
       "      <td>https://tw.news.appledaily.com/politics/realti...</td>\n",
       "      <td>【更新】水利會改官派明闖關　綠委24小時前顧議場大門防藍突襲</td>\n",
       "    </tr>\n",
       "    <tr>\n",
       "      <th>1</th>\n",
       "      <td>論壇</td>\n",
       "      <td>邱俊棠／台中市民、見習醫師；曾任台灣醫學生聯合會對外副會長對於公民參與公眾事務而能得到單位首...</td>\n",
       "      <td>https://tw.news.appledaily.com/forum/realtime/...</td>\n",
       "      <td>請中市府為所當為 加速中火燃煤限制</td>\n",
       "    </tr>\n",
       "    <tr>\n",
       "      <th>2</th>\n",
       "      <td>社會</td>\n",
       "      <td>被控來台涉發展情報組織的中國學生周泓旭，因接觸我方外交部官員而露餡落網，今年9月被台北地院一...</td>\n",
       "      <td>https://tw.news.appledaily.com/local/realtime/...</td>\n",
       "      <td>陸生共諜嗆台司法　「不敢公開審理我」</td>\n",
       "    </tr>\n",
       "    <tr>\n",
       "      <th>3</th>\n",
       "      <td>生活</td>\n",
       "      <td>【廣編特輯】 對於全能神教會在中國所遭受的迫害與在韓國、香港及臺灣所面對的反面宣傳，非政府組...</td>\n",
       "      <td>https://tw.news.appledaily.com/life/realtime/2...</td>\n",
       "      <td>【特企】NGO聯名譴責中共迫害宗教信仰</td>\n",
       "    </tr>\n",
       "    <tr>\n",
       "      <th>4</th>\n",
       "      <td>生活</td>\n",
       "      <td>立法院交通委員會今審查《道路交通管理處罰條例》，通過營業大客車駕駛人行駛一般道路未繫安全帶，...</td>\n",
       "      <td>https://tw.news.appledaily.com/life/realtime/2...</td>\n",
       "      <td>乘客搭大客車不配合繫安全帶　立院初審通過可罰6千元</td>\n",
       "    </tr>\n",
       "  </tbody>\n",
       "</table>\n",
       "</div>"
      ],
      "text/plain": [
       "  category                                            content  \\\n",
       "0       政治  新增：立委說法民進黨立法院黨團預計在明天的院會中，讓改制農田水利會的《農田水利會組織通則》修...   \n",
       "1       論壇  邱俊棠／台中市民、見習醫師；曾任台灣醫學生聯合會對外副會長對於公民參與公眾事務而能得到單位首...   \n",
       "2       社會  被控來台涉發展情報組織的中國學生周泓旭，因接觸我方外交部官員而露餡落網，今年9月被台北地院一...   \n",
       "3       生活  【廣編特輯】 對於全能神教會在中國所遭受的迫害與在韓國、香港及臺灣所面對的反面宣傳，非政府組...   \n",
       "4       生活  立法院交通委員會今審查《道路交通管理處罰條例》，通過營業大客車駕駛人行駛一般道路未繫安全帶，...   \n",
       "\n",
       "                                                link  \\\n",
       "0  https://tw.news.appledaily.com/politics/realti...   \n",
       "1  https://tw.news.appledaily.com/forum/realtime/...   \n",
       "2  https://tw.news.appledaily.com/local/realtime/...   \n",
       "3  https://tw.news.appledaily.com/life/realtime/2...   \n",
       "4  https://tw.news.appledaily.com/life/realtime/2...   \n",
       "\n",
       "                            title  \n",
       "0  【更新】水利會改官派明闖關　綠委24小時前顧議場大門防藍突襲  \n",
       "1               請中市府為所當為 加速中火燃煤限制  \n",
       "2              陸生共諜嗆台司法　「不敢公開審理我」  \n",
       "3             【特企】NGO聯名譴責中共迫害宗教信仰  \n",
       "4       乘客搭大客車不配合繫安全帶　立院初審通過可罰6千元  "
      ]
     },
     "execution_count": 49,
     "metadata": {},
     "output_type": "execute_result"
    }
   ],
   "source": [
    "newsdf.head()"
   ]
  },
  {
   "cell_type": "code",
   "execution_count": 52,
   "metadata": {
    "collapsed": false
   },
   "outputs": [],
   "source": [
    "corpus = []\n",
    "titles = []\n",
    "for news in newsdf.iterrows():\n",
    "    corpus.append(' '.join(jieba.cut(news[1]['content'])))\n",
    "    titles.append(news[1]['title'])"
   ]
  },
  {
   "cell_type": "code",
   "execution_count": 56,
   "metadata": {
    "collapsed": false
   },
   "outputs": [
    {
     "data": {
      "text/plain": [
       "<899x38624 sparse matrix of type '<class 'numpy.int64'>'\n",
       "\twith 128131 stored elements in Compressed Sparse Row format>"
      ]
     },
     "execution_count": 56,
     "metadata": {},
     "output_type": "execute_result"
    }
   ],
   "source": [
    "from sklearn.feature_extraction.text import CountVectorizer\n",
    "vectorizer = CountVectorizer()\n",
    "X = vectorizer.fit_transform(corpus)\n",
    "X"
   ]
  },
  {
   "cell_type": "code",
   "execution_count": 67,
   "metadata": {
    "collapsed": false
   },
   "outputs": [
    {
     "data": {
      "text/plain": [
       "(899, 899)"
      ]
     },
     "execution_count": 67,
     "metadata": {},
     "output_type": "execute_result"
    }
   ],
   "source": [
    "from sklearn.metrics.pairwise import cosine_similarity\n",
    "cs = cosine_similarity(X)\n",
    "cs.shape"
   ]
  },
  {
   "cell_type": "code",
   "execution_count": 65,
   "metadata": {
    "collapsed": false
   },
   "outputs": [
    {
     "data": {
      "text/plain": [
       "array([1, 2, 4, 5, 6, 7, 8, 9])"
      ]
     },
     "execution_count": 65,
     "metadata": {},
     "output_type": "execute_result"
    }
   ],
   "source": [
    "na = np.array([1,9,2,6,8,4,5,7])\n",
    "na.sort()\n",
    "na"
   ]
  },
  {
   "cell_type": "code",
   "execution_count": 66,
   "metadata": {
    "collapsed": false
   },
   "outputs": [
    {
     "data": {
      "text/plain": [
       "array([0, 2, 5, 6, 3, 7, 4, 1], dtype=int64)"
      ]
     },
     "execution_count": 66,
     "metadata": {},
     "output_type": "execute_result"
    }
   ],
   "source": [
    "na = np.array([1,9,2,6,8,4,5,7])\n",
    "na.argsort()"
   ]
  },
  {
   "cell_type": "code",
   "execution_count": 72,
   "metadata": {
    "collapsed": false
   },
   "outputs": [
    {
     "name": "stdout",
     "output_type": "stream",
     "text": [
      "【更新】水利會改官派明闖關　綠委24小時前顧議場大門防藍突襲 1.0\n",
      "反對水利會改制　吳敦義下令：藍委做好夜宿立院抗爭準備 0.367845249572\n",
      "農田水利會改公務機關　蔡英文：這不是綁樁 0.327587152559\n"
     ]
    }
   ],
   "source": [
    "rank = cs[0].argsort()[::-1]\n",
    "for rec in rank[0:10]:\n",
    "    if cs[0][rec] > 0.3:\n",
    "        print(titles[rec], cs[0][rec])"
   ]
  },
  {
   "cell_type": "code",
   "execution_count": 73,
   "metadata": {
    "collapsed": true
   },
   "outputs": [],
   "source": [
    "def getSimiliarArticle(pos):\n",
    "    rank = cs[pos].argsort()[::-1]\n",
    "    for rec in rank[0:10]:\n",
    "        similiarities = cs[pos][rec]\n",
    "        if similiarities > 0.3:\n",
    "            print(titles[rec], similiarities)"
   ]
  },
  {
   "cell_type": "code",
   "execution_count": 79,
   "metadata": {
    "collapsed": false
   },
   "outputs": [
    {
     "name": "stdout",
     "output_type": "stream",
     "text": [
      "喬妹升格宋太太首上工　現身中國見習近平 1.0\n",
      "素顏依舊完美　喬妹升格人妻赴中開工 0.31870904608\n"
     ]
    }
   ],
   "source": [
    "getSimiliarArticle(6)"
   ]
  },
  {
   "cell_type": "markdown",
   "metadata": {},
   "source": [
    "## 保險常見問題集"
   ]
  },
  {
   "cell_type": "code",
   "execution_count": 81,
   "metadata": {
    "collapsed": false
   },
   "outputs": [],
   "source": [
    "import requests\n",
    "from bs4 import BeautifulSoup\n",
    "res = requests.get('https://my83.com.tw/knowledge/client')\n",
    "soup = BeautifulSoup(res.text, 'html.parser')"
   ]
  },
  {
   "cell_type": "code",
   "execution_count": 89,
   "metadata": {
    "collapsed": false
   },
   "outputs": [
    {
     "data": {
      "text/plain": [
       "{'Q：「實支實付」和「定額給付」各是什麼？哪個比較好？': '以上兩種皆是醫療險的理賠方式。實支實付：符合理賠情況，在限額內，花費多少、保險公司理賠多少；超過限額，則最多只理賠到限額。定額給付：又稱為日額給付，符合理賠情況，保險公司按照固定的金額(住院天數 x 每日給付)做理賠，而不管保戶實際上到底花了多少錢。因應二代健保及DRGs(住院診斷關聯群)的實施，使得住院天數大幅下降且醫療自費項目增加，實支實付會較能因應醫療花費。',\n",
       " 'Q：什麼是竊盜險？': '竊盜險是保險公司提供整台車被偷走或整車損毀的保障，不理賠零件的損失，另外竊盜險會因為車子的年費而折舊，所以不是每輛車都需要投保。',\n",
       " 'Q：刷卡買機票已經有送旅平險了，還需要另外買旅平險嗎？': '一般信用卡送的旅平險其實是「飛行平安險」，「飛行平安險」只保障搭機前後5小時及飛行途中這段期間，所以建議大家要另外買旅平險來保障常見的海外就醫及意外身故。',\n",
       " 'Q：只要需要長期看護，長期看護險就可以理賠？': '錯！須符合各家保險公司所定義的長期看護狀態，通常以巴氏量表為準，且每半年至一年要再回診，確保符合長期看護險的失能狀態。',\n",
       " 'Q：壽險最主要的保障是什麼？長輩似乎都買來做為儲蓄工具': '一般常見的壽險，例如：利率變動型終身壽險、利率變動型還本終身保險、增額終身壽險其實都是儲蓄混合保障的保單，功能混和在一起不僅擠壓到保障額度，儲蓄的報酬率也不佳。',\n",
       " 'Q：夫妻倆和剛出生的小孩，到底需不需要保險？': '保險是提供您與家人的保障，就像勞保和健保一樣，保障您的醫療品質及職涯發展；有了小孩後，責任漸增，更需要做足全家人的保障。',\n",
       " 'Q：想投資，銀行定存還是儲蓄險比較好？': '想買儲蓄險，首先要百分百確定，自己在繳費期間不會動用這筆錢。如果在儲蓄險繳費期間內解約，保費會損失且只能拿回解約金；而銀行定存的話，在繳費期間內解約，所繳的費用不會有損失且會加上利息全數退還給你。以剛出社會、不確定何時會用到大筆費用的小資族來說，會建議做銀行定存。',\n",
       " 'Q：意外險是定期型的比較好還是還本型?': '還本型意外險其實是有儲蓄功能的保險，還本型意外險的保費非常昂貴，是定期型意外險保費的幾十倍，如果把還本意外險的保費拿去定存，所得的利息都可以讓你買到更高保障額的定期意外險了。如果只需要意外險的保障，建議選擇定期意外險即可，可以用較低的保費買到更高的保障。',\n",
       " 'Q：正值經濟壓力大的時期，怎麼規劃保險比較好？': '家庭責任、開銷多，低保費高保障的定期險讓你更能靈活運用手頭資金。',\n",
       " 'Q：殘廢扶助險跟殘廢險的差別？': '全名為殘廢扶助險，與殘廢險相同的是，殘扶險也可以保障意外及疾病所造成的殘廢風險；而不同的是殘廢險是依照殘廢等級表(1-11級)相對應比例給予一次性給付，殘扶險則是符合殘廢等級表定義（常見的是1-6級或1-3級)定期給付。',\n",
       " 'Q：殘廢險的主要功用是什麼？': '殘廢險能提供完整的殘廢保障，不像意外險只能理賠因意外所造成的殘廢，殘廢險能保障疾病及意外所造成的傷害，並且能避免保險公司對於殘廢原因的認定爭議。事實上，統計有6成的殘廢主因是疾病而非意外。',\n",
       " 'Q：用儲蓄險儲蓄真的好嗎？': '想買儲蓄險，首先要百分百確定，自己在繳費期間不會動用這筆錢。如果在儲蓄險繳費期間內解約，保費會損失且只能拿回解約金；而銀行定存的話，在繳費期間內解約，所繳的費用不會有損失且會加上利息全數退還給你。以剛出社會、不確定何時會用到大筆費用的小資族來說，會建議做銀行定存。',\n",
       " 'Q：買哪種醫療險，才能轉嫁龐大的醫藥費？': '健保局統計，住院醫療花費比例：病房費23%、手續費13%、其他雜費(藥費、材料費等)64%，而定期實支實付才能有效轉嫁花費最多的雜費。',\n",
       " 'Q：購買癌症險最需要注意什麼？': '先確認自己家族的病史，有癌症的話，是否在癌症險除外不理賠的範圍內，此外癌症的花費可分為\\n                                1. 標靶藥物：數十萬~百萬\\n                                2. 新式診斷：每次檢查1萬~5萬\\n                                3. 新式放療：每個療程20萬起跳\\n                                4. 新式手術：數萬~數十萬\\n                                這麼高額的花費，選擇一次給付的癌症險較能負擔，能夠在罹癌初期先拿到高額的初次理賠金。\\n',\n",
       " 'Q：重大疾病險是什麼？保障的內容為？': '重大疾病險是針對較嚴重的七項重大疾病來做保障，包括「癌症」、心肌梗塞、冠狀動脈繞道手術、腦中風、慢性腎衰竭(尿毒症)、癱瘓、重大器官移植手術，特別的是只要符合疾病定義，不論有沒有住院，都能獲得一次性給付，讓病患在罹病初期能安心治療。也因為重大疾病險理賠大部分的癌症，也可拿來作為癌症保障。'}"
      ]
     },
     "execution_count": 89,
     "metadata": {},
     "output_type": "execute_result"
    }
   ],
   "source": [
    "qalist =  soup.select('.accordionList')\n",
    "questions = [qa.select('dt')[0].text for qa in qalist]\n",
    "answers   = [qa.select('dd')[0].text for qa in qalist]\n",
    "qa_ary \n",
    "for q, a in zip(questions, answers):\n",
    "    dic{'question'} = q\n",
    "    dic{'answer'}   = a"
   ]
  },
  {
   "cell_type": "markdown",
   "metadata": {},
   "source": [
    "## 同義詞"
   ]
  },
  {
   "cell_type": "code",
   "execution_count": 16,
   "metadata": {
    "collapsed": false
   },
   "outputs": [
    {
     "data": {
      "text/plain": [
       "'柯文哲 為 了 大巨蛋 一案 找遠 雄算帳'"
      ]
     },
     "execution_count": 16,
     "metadata": {},
     "output_type": "execute_result"
    }
   ],
   "source": [
    "synonym_dic = {\n",
    "    '柯P': '柯文哲'\n",
    "}\n",
    "s = '柯P為了大巨蛋一案找遠雄算帳'\n",
    "' '.join([synonym_dic.get(ele, ele) for ele in jieba.cut(s)])\n"
   ]
  }
 ],
 "metadata": {
  "kernelspec": {
   "display_name": "Python 3",
   "language": "python",
   "name": "python3"
  },
  "language_info": {
   "codemirror_mode": {
    "name": "ipython",
    "version": 3
   },
   "file_extension": ".py",
   "mimetype": "text/x-python",
   "name": "python",
   "nbconvert_exporter": "python",
   "pygments_lexer": "ipython3",
   "version": "3.6.0"
  }
 },
 "nbformat": 4,
 "nbformat_minor": 2
}
